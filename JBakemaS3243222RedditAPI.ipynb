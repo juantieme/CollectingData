{
 "cells": [
  {
   "cell_type": "markdown",
   "id": "631ccd5d-29d4-45a0-a857-83a1f1ca5cbf",
   "metadata": {},
   "source": [
    "## Collecting Data Week 4 -- Jan-Tieme Bakema S3243222\n",
    "since psaw did not work, I used praw which was recommended as an alternative online\n",
    "\n",
    "The following video was followed as an instruction: https://www.youtube.com/watch?v=Y7BSe7EiBTs"
   ]
  },
  {
   "cell_type": "code",
   "execution_count": 25,
   "id": "82446d72-ddd6-483d-ba72-f772ecd06346",
   "metadata": {},
   "outputs": [
    {
     "name": "stdout",
     "output_type": "stream",
     "text": [
      "Collecting praw\n",
      "  Downloading praw-7.5.0-py3-none-any.whl (176 kB)\n",
      "\u001b[K     |████████████████████████████████| 176 kB 2.6 MB/s eta 0:00:01\n",
      "\u001b[?25hCollecting prawcore<3,>=2.1\n",
      "  Downloading prawcore-2.3.0-py3-none-any.whl (16 kB)\n",
      "Collecting update-checker>=0.18\n",
      "  Downloading update_checker-0.18.0-py3-none-any.whl (7.0 kB)\n",
      "Collecting websocket-client>=0.54.0\n",
      "  Downloading websocket_client-1.2.3-py3-none-any.whl (53 kB)\n",
      "\u001b[K     |████████████████████████████████| 53 kB 2.3 MB/s eta 0:00:01\n",
      "\u001b[?25hRequirement already satisfied: requests<3.0,>=2.6.0 in /opt/anaconda3/lib/python3.8/site-packages (from prawcore<3,>=2.1->praw) (2.25.1)\n",
      "Requirement already satisfied: chardet<5,>=3.0.2 in /opt/anaconda3/lib/python3.8/site-packages (from requests<3.0,>=2.6.0->prawcore<3,>=2.1->praw) (4.0.0)\n",
      "Requirement already satisfied: certifi>=2017.4.17 in /opt/anaconda3/lib/python3.8/site-packages (from requests<3.0,>=2.6.0->prawcore<3,>=2.1->praw) (2020.12.5)\n",
      "Requirement already satisfied: idna<3,>=2.5 in /opt/anaconda3/lib/python3.8/site-packages (from requests<3.0,>=2.6.0->prawcore<3,>=2.1->praw) (2.10)\n",
      "Requirement already satisfied: urllib3<1.27,>=1.21.1 in /opt/anaconda3/lib/python3.8/site-packages (from requests<3.0,>=2.6.0->prawcore<3,>=2.1->praw) (1.26.4)\n",
      "Installing collected packages: websocket-client, update-checker, prawcore, praw\n",
      "Successfully installed praw-7.5.0 prawcore-2.3.0 update-checker-0.18.0 websocket-client-1.2.3\n"
     ]
    }
   ],
   "source": [
    "!pip install praw"
   ]
  },
  {
   "cell_type": "code",
   "execution_count": 180,
   "id": "f4c96e9a-91c5-4838-b50d-2f3661c12856",
   "metadata": {},
   "outputs": [],
   "source": [
    "import praw\n",
    "import pandas as pd\n",
    "import seaborn as sns\n",
    "import nltk\n",
    "from nltk.corpus import stopwords"
   ]
  },
  {
   "cell_type": "code",
   "execution_count": 34,
   "id": "c737fd67-139a-45da-9ebc-54ae7a3e7566",
   "metadata": {},
   "outputs": [],
   "source": [
    "# I get the API from my other reddit account, removed the input for security reasons\n",
    "reddit = praw.Reddit(client_id = \" \",\n",
    "                      client_secret = \" \",\n",
    "                      user_agent = \" \",\n",
    "                      username = \" \",\n",
    "                      password = \" \")"
   ]
  },
  {
   "cell_type": "code",
   "execution_count": 204,
   "id": "c557cf97-de2d-441d-99e6-1d34fa6251b5",
   "metadata": {
    "collapsed": true,
    "jupyter": {
     "outputs_hidden": true
    },
    "tags": []
   },
   "outputs": [
    {
     "name": "stdout",
     "output_type": "stream",
     "text": [
      "For those of you comparing these protests to Boston 1773, take a look at these pictures and tell me how this is patriotic to you? That is The Capitol Building. , 111197 , 7899 , 0.8\n",
      "I want my taxes back , 60351 , 5202 , 0.81\n",
      "Fox News: McConnell believes Trump committed impeachable offenses, supports Democrats' impeachment efforts: , 49119 , 6781 , 0.75\n",
      "AMAZING! Congress Got Paid Their Full Salary of $130K for 9 Months While they Argued About Giving Every American $600 of Their Own Money , 46954 , 4680 , 0.81\n",
      "House impeaches Trump for second time over Capitol riots , 45774 , 10233 , 0.72\n",
      "New SEC Rule: Wall Street Will Now Only Allow Traders Who Wear A Top Hat And Monocle And Carry Around Giant Bags Of Money , 44288 , 1230 , 0.83\n",
      "Electoral College Elects Biden As President , 36716 , 4323 , 0.67\n",
      "Republican Starting To Think Trump Might Not Pull Off A Last-Minute 4D Chess Move , 36101 , 3178 , 0.79\n",
      "Romney rips Trump over Capitol Hill mayhem: 'This is what the president has caused' , 34038 , 2563 , 0.72\n",
      "And he's not the only one... , 32523 , 1899 , 0.83\n",
      "M'kay? , 31358 , 1728 , 0.78\n",
      "SCOTUS rejects TX lawsuit , 31021 , 6084 , 0.71\n",
      "Joe IMMEDIATELY rips up Trump's legacy: New President will STOP building border wall, order federal mask mandate, scrap 'Muslim' ban, rejoin climate accord and dissolve anti-woke 1776 Commission , 29782 , 5825 , 0.64\n",
      "BREAKING NEWS: Donald Trump threatens to VETO relief bill demanding Congress increase checks from $600 to $2,000 and ditch 'wasteful' spending , 29618 , 5286 , 0.78\n",
      "(found on r/wholesomememes) , 25379 , 2331 , 0.71\n",
      "Oppression from the Villa , 22411 , 2572 , 0.6\n",
      "Poll: Nearly Two-Thirds of Americans Want a Third Party to Represent Their Interests , 22355 , 2127 , 0.72\n",
      "It’s Time For Americans To Refuse To Trade With Slaveholders -- Now that we know, beyond a doubt, of China's abhorrent treatment of the Uighurs we must reconsider our relations with the Slave Power rising in the East. , 21118 , 1674 , 0.79\n",
      "After Being Kicked Off Social Media, Trump Forced To Go Door To Door And Shout 'RIGGED ELECTION!' , 20611 , 549 , 0.79\n",
      "Sen. Cruz reintroduces amendment imposing term limits on members of Congress , 20335 , 1750 , 0.73\n",
      "Capitol rioters could face up to 10 years in prison under Trump monument executive order , 19946 , 1362 , 0.85\n",
      "McConnell says Trump provoked Jan. 6 riot , 19379 , 1986 , 0.75\n",
      "Google deletes 100,000 negative reviews of Robinhood App , 18766 , 893 , 0.86\n",
      "Biden's inaugural parade is canceled and replaced with a virtual version to avoid drawing large crowds amid the pandemic , 18421 , 1774 , 0.71\n",
      "Somethings we can agree on , 18256 , 1234 , 0.9\n",
      "Rep. Ilhan Omar Backs Trump’s Call for ‘Clean Bill’ with Nothing But ‘$2,000 Survival Checks’ , 17955 , 1502 , 0.83\n",
      "May 35th, 1989 - the Chinese Communist Party slaughters their own citizens - protestors and bystanders alike - after weeks of massive pro-Democracy protests , 16986 , 1147 , 0.83\n",
      "Joe Biden sworn in as 46th U.S. president , 16606 , 2305 , 0.68\n",
      "It's Time For Mitch McConnell To Go , 16443 , 1028 , 0.82\n",
      "BREAKING: Derek Chauvin Guilty On All 3 Counts In George Floyd's Death , 16438 , 5213 , 0.67\n",
      "Mitch McConnell blocks unanimous vote on $2,000 COVID-19 stimulus checks , 15639 , 1566 , 0.83\n",
      "Supreme Court rules warrantless home gun confiscation is unconstitutional in 9-0 vote , 14900 , 1034 , 0.75\n",
      "How to be a star in the GOP. Go on cable news shows and complain about how corrupt everything is but then never actually do anything about it. , 14646 , 894 , 0.81\n",
      "After a lot of research, it appears that their excuse for this is closing the income and generational wealth gap between whites, minorities and “undocumented migrants”.. , 14369 , 1141 , 0.69\n",
      "Domino’s Pizza announces $1,200 holiday bonus to each of its frontline workers , 13758 , 912 , 0.82\n",
      "Man Who Carries Smartphone Everywhere He Goes Worried Government Might Track Him Through Vaccine , 12840 , 1123 , 0.84\n",
      "Bill to ban biological men from women's sports gains bipartisan support in Congress , 12705 , 794 , 0.69\n",
      "Congress Finally Reaches Stimulus Agreement: Every American Will Receive A Coupon For $5 Off At Applebee's , 12421 , 817 , 0.87\n",
      "The passengers of United 93 are American Heroes. , 12310 , 557 , 0.81\n",
      "Americans Excitedly Anticipate Getting Paid With Their Own Money , 12298 , 1175 , 0.74\n",
      "So, this is acceptable ? , 12293 , 1360 , 0.58\n",
      "Biden Voter On CNN: “They’re Dropping Bombs In Syria And Those Bombs Are Pretty Expensive For A Guy Who Owes Me $ 2,000” (VIDEO) , 12279 , 2097 , 0.61\n",
      "\"Reddit bans r/Donaldtrump for repeated violations following Capitol Hill riot\" , 11619 , 1822 , 0.77\n",
      "“The media isn’t biased, it’s all in your head” , 11062 , 1355 , 0.56\n",
      "US Becomes First Nation To Designate Communist China’s Treatment Of Uighurs As ‘Genocide’ , 10933 , 764 , 0.91\n",
      "Rand Paul: One-third of Republicans will leave party if GOP senators go along with convicting Trump , 10842 , 1427 , 0.75\n",
      "Nearly two-thirds of Republicans say they would likely leave party if Trump starts new one: Poll , 10803 , 1922 , 0.73\n",
      "Killers of Ahmaud Arbery Found Guilty Of Murder , 10686 , 2857 , 0.8\n",
      "Leaked database of 1.95 million registered Chinese Communist Party members shows how Beijing's influence stretches into almost every corner of British life, including defense firms, banks and pharmaceutical giants , 10598 , 854 , 0.75\n",
      "FDA grants Pfizer COVID-19 vaccine full approval , 10568 , 3793 , 0.73\n",
      "Canada votes to recognize China’s treatment of Uighur population as genocide , 10528 , 650 , 0.89\n",
      "DDHQ Election Results - Calling it for John Ossoff. , 10537 , 1865 , 0.82\n",
      "If you have been in Congress since before the internet... , 10466 , 704 , 0.8\n",
      "Homeowner shoots all four armed men who broke into his house — two of them fatally. Surviving suspects face murder charges for accomplices' deaths. , 10417 , 1555 , 0.68\n",
      "Mitch McConnell rips Marjorie Taylor Greene: ‘A cancer for the Republican Party’ , 10210 , 2162 , 0.84\n",
      "Charles Barkley says politicians 'divide and conquer' based on race to 'keep their grasp on money and power' , 10199 , 571 , 0.77\n",
      "Rep. Matt Gaetz's communications director steps down amid federal investigation of congressman , 10190 , 1646 , 0.82\n",
      "Pence, Not Trump, Gave Order to Activate National Guard: Report , 10005 , 668 , 0.82\n",
      "China Is Detaining Christians In Secret Facilities Forcing Them To Renounce Their Faith Or Be Tortured: Report , 9881 , 1737 , 0.72\n",
      "Poland's justice Minister announces online freedom of speech bill: social media companies will be fined for every post they take down that doesn't break Polish law , 9827 , 1374 , 0.63\n",
      "Marriott, Blue Cross Blue Shield and Commerce Bancshare stop donations to all 147 Republicans who opposed Certifying Biden as President; Ford, Bank of America, CVS, Target, AT&T, Berkshire Hathaway and Exxon Mobil are also considering similar policies , 9773 , 725 , 0.84\n",
      "Jeff Bezos Loved Mail-In Voting For The 2020 Election, But Not For Amazon Unionization Efforts , 9631 , 481 , 0.8\n",
      "Marjorie Taylor Greene warns GOP the base is loyal to Trump — not the party , 9639 , 2315 , 0.77\n",
      "Vegan cafe that charged 18% ‘man tax’ goes out of business. , 9397 , 904 , 0.73\n",
      "Conservative Mental Health Up 300% After They All Get Banned From Twitter , 8937 , 609 , 0.8\n",
      "A QAnon promoter stormed the Capitol. Now, he's upset people are saying he's 'antifa' , 8934 , 560 , 0.89\n",
      "Biden’s Electoral College victory certified -- hours after Capitol chaos , 8871 , 1408 , 0.8\n",
      "What a difference 24 hours makes , 8844 , 697 , 0.67\n",
      "Trump slashed aid to China by 52 percent - The Spectator , 8785 , 1109 , 0.69\n",
      "Mitch McConnell Needs To Go , 8778 , 1073 , 0.85\n",
      "Google Suspends Parler From Google Play , 8726 , 1579 , 0.8\n",
      "How to become a Billionaire , 8727 , 490 , 0.67\n",
      "Disney Fired Gina Carano Over A Nazi Comparison But Has No Problem With Chinese Concentration Camps -- According to Disney, making Holocaust analogies on social media is a fireable offense, but profiting off an ongoing modern-day genocide is A-OK. , 8661 , 510 , 0.7\n",
      "Poland to fine social media giants $2.2m every time they censor free speech , 8622 , 689 , 0.67\n",
      "Bill Maher defends Trump supporters: Let's not confuse '5,000' Capitol rioters with '74 million' voters , 8592 , 1315 , 0.6\n",
      "Greedy Health Care Providers Must Disclose Prices In 2021 Thanks To Trump’s Executive Order , 8566 , 544 , 0.81\n",
      "AOC calls for ‘full investigation’ into Cuomo nursing home scandal , 8520 , 1284 , 0.88\n",
      "CNN ratings plummet 44% in first week since Trump left office , 8408 , 880 , 0.69\n",
      "Court Docs Show Facebook Played Much Bigger Part In Capitol Riot Than Parler, Yet No Consequences -- If any single platform can be fingered as the favorite of the rioters, it appears to be Facebook. Yet Facebook remains unmolested by app stores and untargeted by opportunistic politicians. , 8275 , 643 , 0.74\n",
      "Prosecutor in the Rittenhouse case shows a shocking lack of trigger discipline as he points a rifle at the jury. , 8279 , 1376 , 0.61\n",
      "Ga. Shocker: Democrats Warnock, Ossoff Win Senate Runoffs , 8226 , 1166 , 0.85\n",
      "Andrew Cuomo Announces Indoor Dining Can Resume Despite Coronavirus Being Worse Than When He Banned It , 8093 , 908 , 0.72\n",
      "Does this end the opioid crisis to? , 8088 , 281 , 0.83\n",
      "Pence: I don't have authority to determine electoral votes , 7964 , 624 , 0.9\n",
      "Reps. Tulsi Gabbard And Markwayne Mullin Introduce Bill That Would Allow Only Biological Females In Women’s Sports , 7942 , 1236 , 0.67\n",
      "DC Elephants , 7874 , 423 , 0.83\n",
      "So true , 7844 , 807 , 0.72\n",
      "Letter: If the FBI is Going to Investigate Parler, Twitter and Facebook Deserve the Same , 7811 , 785 , 0.77\n",
      "Yes. , 7773 , 1490 , 0.61\n",
      "Apple is removing Parler from the App Store , 7735 , 1519 , 0.76\n",
      "Poll: Most Americans don’t want Pelosi to be Speaker , 7701 , 1340 , 0.65\n",
      "Scarlett Johansson says actors should stick to acting and stop making political statements , 7532 , 1107 , 0.58\n",
      "John Cena called ‘pathetic’ for apologizing to China over Taiwan remark. No longer a fan , 7474 , 1174 , 0.75\n",
      "Rand Paul’s Festivus Highlight , 7446 , 326 , 0.88\n",
      "Texas officially declares that performing sex-change surgeries on kids is child abuse , 7431 , 469 , 0.72\n",
      "Putin: \"I'd like to offer Pres Biden to continue our discussions with one condition. We will do it in a LIVE BROADCAST, ONLINE. Without any lags, in an open direct discussion. I believe this could be interesting for the Russian people, and the Americans - for other countries as well.\" , 7381 , 2030 , 0.63\n",
      "Twitter, Facebook Lost $51 Billion in Market Value Since Trump Ban , 7382 , 706 , 0.73\n",
      "Dr. Suess Books to Remain on Shelves at New York Public Library: We Don’t Censor Books , 7336 , 754 , 0.68\n",
      "If our public figures actually possessed moral integrity. , 7326 , 327 , 0.77\n",
      "Israel To Buy Weapons From America With Money Given To Them By America To Shoot Down Iranian Rockets Paid For By America , 7197 , 436 , 0.87\n"
     ]
    }
   ],
   "source": [
    "# Retrieves posts of conservative subreddit (looking at r/conservative)\n",
    "subred = reddit.subreddit(\"conservative\")\n",
    "\n",
    "# looks at top posts over a year and prints out the title, score, number of comments and the upvote ratio of these posts\n",
    "for i in subred.top('year'):\n",
    "    print(i.title,',',i.score,',',i.num_comments,',', i.upvote_ratio)\n",
    "    \n",
    "# This is a quick representation of the data, but won't be useful in this form"
   ]
  },
  {
   "cell_type": "code",
   "execution_count": 205,
   "id": "65ae2e66-f6a8-49f8-8213-e6e858f42f4a",
   "metadata": {
    "tags": []
   },
   "outputs": [],
   "source": [
    "# Below I transform this data into a dataframe, while also adding some other interesting columns\n",
    "# I changed it to the 500 most popular posts from the year\n",
    "df = []\n",
    "for post in subred.top('year', limit = 500):\n",
    "    df.append([post.title, post.selftext, post.score, post.num_comments,post.upvote_ratio, 'reddit.com' + post.permalink])\n",
    "    \n",
    "df = pd.DataFrame(df,columns=['title', 'body', 'score', 'num_comments', 'upvote_ratio', 'permalink'])    "
   ]
  },
  {
   "cell_type": "code",
   "execution_count": 206,
   "id": "62ce7cc7-eac3-4427-9142-c942748da8ab",
   "metadata": {},
   "outputs": [],
   "source": [
    "## a function that retrieves most common words from a list of words\n",
    "def most_common_words(list_of_words):\n",
    "    dict_words = {}\n",
    "    for word in list_of_words:\n",
    "        if word not in dict_words: #k instead of dict_words?\n",
    "            dict_words[word] = 1\n",
    "        else:\n",
    "            dict_words[word] += 1\n",
    "    return dict_words\n"
   ]
  },
  {
   "cell_type": "code",
   "execution_count": 209,
   "id": "acb93dc4-d1d0-4fa4-bcc5-f00bd6f29352",
   "metadata": {
    "tags": []
   },
   "outputs": [
    {
     "data": {
      "text/plain": [
       "calls           4\n",
       "china           4\n",
       "trump           4\n",
       "communist       3\n",
       "conservative    3\n",
       "free            3\n",
       "republicans     3\n",
       "states          3\n",
       "twitter         3\n",
       "party           2\n",
       "dtype: int64"
      ]
     },
     "execution_count": 209,
     "metadata": {},
     "output_type": "execute_result"
    }
   ],
   "source": [
    "# Get all words of the posts with the fifty highest upvote ratios\n",
    "high_ratio = df.nlargest(50, 'upvote_ratio')\n",
    "\n",
    "high_ratio_words = []\n",
    "for title in high_ratio['title']:\n",
    "    for word in title.split():\n",
    "        if word.lower() not in stopwords:\n",
    "            high_ratio_words.append(word.lower())\n",
    "\n",
    "# create dict with the word counts\n",
    "dict_high = most_common_words(high_ratio_words)\n",
    "\n",
    "#create Series the word counts\n",
    "df_high = pd.Series(dict_high)\n",
    "\n",
    "# shows 10 most common words\n",
    "df_high.nlargest(10)"
   ]
  },
  {
   "cell_type": "code",
   "execution_count": 210,
   "id": "b3f36dfc-3294-4c27-acea-c6f56ccbf75e",
   "metadata": {},
   "outputs": [
    {
     "data": {
      "text/plain": [
       "trump        6\n",
       "president    5\n",
       "black        4\n",
       "new          3\n",
       "twitter      3\n",
       "-            3\n",
       "facebook     2\n",
       "media        2\n",
       "it’s         2\n",
       "acting       2\n",
       "dtype: int64"
      ]
     },
     "execution_count": 210,
     "metadata": {},
     "output_type": "execute_result"
    }
   ],
   "source": [
    "# Get all words of the posts with the fifty lowest upvote ratios\n",
    "low_ratio = df.nsmallest(50, 'upvote_ratio')\n",
    "\n",
    "low_ratio_words = []\n",
    "for title in low_ratio['title']:\n",
    "    for word in title.split():\n",
    "        if word.lower() not in stopwords:\n",
    "            low_ratio_words.append(word.lower())\n",
    "\n",
    "# create dict with the word counts\n",
    "dict_low = most_common_words(low_ratio_words)\n",
    "\n",
    "#create Series the word counts\n",
    "df_low = pd.Series(dict_low)\n",
    "\n",
    "#shows 10 most common words\n",
    "df_low.nlargest(10)"
   ]
  },
  {
   "cell_type": "markdown",
   "id": "d050b391-62bc-4160-a814-e8fdac7ff734",
   "metadata": {},
   "source": [
    "Interestingly, the lower upvote ratio posts mention social media platforms, whereas the higher upvote ratio posts mention words with a political connotation like: conservative, communism, replublicans\n",
    "However, the word counts are not that big so it is difficult to make real conclusions based on this"
   ]
  },
  {
   "cell_type": "code",
   "execution_count": 211,
   "id": "4c8b1c53-6517-4df4-b5b8-22c1137b506d",
   "metadata": {},
   "outputs": [
    {
     "data": {
      "image/png": "[encoded data removed]",
      "text/plain": [
       "<Figure size 360x360 with 1 Axes>"
      ]
     },
     "metadata": {
      "needs_background": "light"
     },
     "output_type": "display_data"
    }
   ],
   "source": [
    "## Is there a correlation between number of comments and the upvote ratio\n",
    "## Do posts with more comments have a lower upvote ratio?\n",
    "sns.lmplot(x='upvote_ratio', y='num_comments', data=df);"
   ]
  },
  {
   "cell_type": "code",
   "execution_count": 212,
   "id": "4d297dae-5b11-4ba6-8396-05648e62b23d",
   "metadata": {},
   "outputs": [
    {
     "data": {
      "text/plain": [
       "-0.19743505516112597"
      ]
     },
     "execution_count": 212,
     "metadata": {},
     "output_type": "execute_result"
    }
   ],
   "source": [
    "df['num_comments'].corr(df['upvote_ratio'])"
   ]
  },
  {
   "cell_type": "markdown",
   "id": "e106b930-cf4c-47a2-b41e-eb06f32d343e",
   "metadata": {},
   "source": [
    "There does not really seem to be a correlation between number of comments on a post and the upvote ratio\n",
    "\n",
    "The negative score does indicate that posts with more comments have a lower upvote ratio, however this association is rather weak. Therefore we cannot really say that there is a correlation between these two attributes"
   ]
  },
  {
   "cell_type": "code",
   "execution_count": null,
   "id": "9c3de016-ba4c-41bb-b14e-70d05f3b8637",
   "metadata": {},
   "outputs": [],
   "source": []
  }
 ],
 "metadata": {
  "kernelspec": {
   "display_name": "Python 3",
   "language": "python",
   "name": "python3"
  },
  "language_info": {
   "codemirror_mode": {
    "name": "ipython",
    "version": 3
   },
   "file_extension": ".py",
   "mimetype": "text/x-python",
   "name": "python",
   "nbconvert_exporter": "python",
   "pygments_lexer": "ipython3",
   "version": "3.8.8"
  }
 },
 "nbformat": 4,
 "nbformat_minor": 5
}
