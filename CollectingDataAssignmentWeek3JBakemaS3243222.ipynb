{
 "cells": [
  {
   "cell_type": "markdown",
   "id": "b1530099-9348-40e6-801a-a122f18b4acd",
   "metadata": {},
   "source": [
    "## The data used in this notebook can be found in the following link: https://github.com/matthewfdaniels/scripts/"
   ]
  },
  {
   "cell_type": "code",
   "execution_count": 77,
   "id": "cc530083-6200-46c4-9bb9-c726b4da1fb0",
   "metadata": {},
   "outputs": [],
   "source": [
    "import pandas as pd\n",
    "import seaborn as sns"
   ]
  },
  {
   "cell_type": "markdown",
   "id": "ee611295-e184-49e0-8ba7-1d99cffe44b2",
   "metadata": {},
   "source": [
    "## Using pandas' read_csv function to read the data downloaded from github"
   ]
  },
  {
   "cell_type": "code",
   "execution_count": 60,
   "id": "6c7172f5-0203-4e60-86bc-855e6dd2fe6d",
   "metadata": {},
   "outputs": [],
   "source": [
    "char = pd.read_csv('scripts-graphs/character_list5.csv', encoding='latin-1')\n",
    "char_map = pd.read_csv('scripts-graphs/character_mapping.csv', encoding='latin-1')\n",
    "meta = pd.read_csv('scripts-graphs/meta_data7.csv', encoding='latin-1')"
   ]
  },
  {
   "cell_type": "markdown",
   "id": "3a6ab1c0-b42a-442b-b09a-fa1391fa1747",
   "metadata": {},
   "source": [
    "## I used these functions to see what the dataframes looked like and what the data was in the tables"
   ]
  },
  {
   "cell_type": "code",
   "execution_count": 24,
   "id": "ce4995c2-5103-40a3-bfa7-6c0a977a4489",
   "metadata": {},
   "outputs": [
    {
     "data": {
      "text/html": [
       "<div>\n",
       "<style scoped>\n",
       "    .dataframe tbody tr th:only-of-type {\n",
       "        vertical-align: middle;\n",
       "    }\n",
       "\n",
       "    .dataframe tbody tr th {\n",
       "        vertical-align: top;\n",
       "    }\n",
       "\n",
       "    .dataframe thead th {\n",
       "        text-align: right;\n",
       "    }\n",
       "</style>\n",
       "<table border=\"1\" class=\"dataframe\">\n",
       "  <thead>\n",
       "    <tr style=\"text-align: right;\">\n",
       "      <th></th>\n",
       "      <th>script_id</th>\n",
       "      <th>imdb_id</th>\n",
       "      <th>character_from_script</th>\n",
       "      <th>closest_character_name_from_imdb_match</th>\n",
       "      <th>closest_imdb_character_id</th>\n",
       "    </tr>\n",
       "  </thead>\n",
       "  <tbody>\n",
       "    <tr>\n",
       "      <th>0</th>\n",
       "      <td>1</td>\n",
       "      <td>tt0147800</td>\n",
       "      <td>bianca</td>\n",
       "      <td>bianca stratford</td>\n",
       "      <td>nm0646351</td>\n",
       "    </tr>\n",
       "    <tr>\n",
       "      <th>1</th>\n",
       "      <td>1</td>\n",
       "      <td>tt0147800</td>\n",
       "      <td>cameron</td>\n",
       "      <td>cameron james</td>\n",
       "      <td>nm0330687</td>\n",
       "    </tr>\n",
       "  </tbody>\n",
       "</table>\n",
       "</div>"
      ],
      "text/plain": [
       "   script_id    imdb_id character_from_script  \\\n",
       "0          1  tt0147800                bianca   \n",
       "1          1  tt0147800               cameron   \n",
       "\n",
       "  closest_character_name_from_imdb_match closest_imdb_character_id  \n",
       "0                       bianca stratford                 nm0646351  \n",
       "1                          cameron james                 nm0330687  "
      ]
     },
     "execution_count": 24,
     "metadata": {},
     "output_type": "execute_result"
    }
   ],
   "source": [
    "char_map.head(2)"
   ]
  },
  {
   "cell_type": "code",
   "execution_count": 61,
   "id": "e1a0514d-beb2-40d1-8e3e-59a2483b6b1d",
   "metadata": {},
   "outputs": [
    {
     "data": {
      "text/html": [
       "<div>\n",
       "<style scoped>\n",
       "    .dataframe tbody tr th:only-of-type {\n",
       "        vertical-align: middle;\n",
       "    }\n",
       "\n",
       "    .dataframe tbody tr th {\n",
       "        vertical-align: top;\n",
       "    }\n",
       "\n",
       "    .dataframe thead th {\n",
       "        text-align: right;\n",
       "    }\n",
       "</style>\n",
       "<table border=\"1\" class=\"dataframe\">\n",
       "  <thead>\n",
       "    <tr style=\"text-align: right;\">\n",
       "      <th></th>\n",
       "      <th>script_id</th>\n",
       "      <th>imdb_character_name</th>\n",
       "      <th>words</th>\n",
       "      <th>gender</th>\n",
       "      <th>age</th>\n",
       "    </tr>\n",
       "  </thead>\n",
       "  <tbody>\n",
       "    <tr>\n",
       "      <th>0</th>\n",
       "      <td>280</td>\n",
       "      <td>betty</td>\n",
       "      <td>311</td>\n",
       "      <td>f</td>\n",
       "      <td>35.0</td>\n",
       "    </tr>\n",
       "    <tr>\n",
       "      <th>1</th>\n",
       "      <td>280</td>\n",
       "      <td>carolyn johnson</td>\n",
       "      <td>873</td>\n",
       "      <td>f</td>\n",
       "      <td>NaN</td>\n",
       "    </tr>\n",
       "  </tbody>\n",
       "</table>\n",
       "</div>"
      ],
      "text/plain": [
       "   script_id imdb_character_name  words gender   age\n",
       "0        280               betty    311      f  35.0\n",
       "1        280     carolyn johnson    873      f   NaN"
      ]
     },
     "execution_count": 61,
     "metadata": {},
     "output_type": "execute_result"
    }
   ],
   "source": [
    "char.head(2)"
   ]
  },
  {
   "cell_type": "code",
   "execution_count": 99,
   "id": "b565c79a-ca69-4ccd-a99b-c7bbee36244f",
   "metadata": {},
   "outputs": [
    {
     "data": {
      "text/html": [
       "<div>\n",
       "<style scoped>\n",
       "    .dataframe tbody tr th:only-of-type {\n",
       "        vertical-align: middle;\n",
       "    }\n",
       "\n",
       "    .dataframe tbody tr th {\n",
       "        vertical-align: top;\n",
       "    }\n",
       "\n",
       "    .dataframe thead th {\n",
       "        text-align: right;\n",
       "    }\n",
       "</style>\n",
       "<table border=\"1\" class=\"dataframe\">\n",
       "  <thead>\n",
       "    <tr style=\"text-align: right;\">\n",
       "      <th></th>\n",
       "      <th>script_id</th>\n",
       "      <th>imdb_id</th>\n",
       "      <th>title</th>\n",
       "      <th>year</th>\n",
       "      <th>gross</th>\n",
       "      <th>lines_data</th>\n",
       "    </tr>\n",
       "  </thead>\n",
       "  <tbody>\n",
       "    <tr>\n",
       "      <th>0</th>\n",
       "      <td>1534</td>\n",
       "      <td>tt1022603</td>\n",
       "      <td>(500) Days of Summer</td>\n",
       "      <td>2009</td>\n",
       "      <td>37.0</td>\n",
       "      <td>7435445256774774443342577775657744434444564456...</td>\n",
       "    </tr>\n",
       "    <tr>\n",
       "      <th>1</th>\n",
       "      <td>1512</td>\n",
       "      <td>tt0147800</td>\n",
       "      <td>10 Things I Hate About You</td>\n",
       "      <td>1999</td>\n",
       "      <td>65.0</td>\n",
       "      <td>1777752320274533344457777722433777334443764677...</td>\n",
       "    </tr>\n",
       "  </tbody>\n",
       "</table>\n",
       "</div>"
      ],
      "text/plain": [
       "   script_id    imdb_id                       title  year  gross  \\\n",
       "0       1534  tt1022603        (500) Days of Summer  2009   37.0   \n",
       "1       1512  tt0147800  10 Things I Hate About You  1999   65.0   \n",
       "\n",
       "                                          lines_data  \n",
       "0  7435445256774774443342577775657744434444564456...  \n",
       "1  1777752320274533344457777722433777334443764677...  "
      ]
     },
     "execution_count": 99,
     "metadata": {},
     "output_type": "execute_result"
    }
   ],
   "source": [
    "meta.head(2)"
   ]
  },
  {
   "cell_type": "markdown",
   "id": "4567012c-ced0-49c6-8d94-39a82f0c8252",
   "metadata": {},
   "source": [
    "# First Visualization"
   ]
  },
  {
   "cell_type": "code",
   "execution_count": 109,
   "id": "a0c99c01-b423-4970-9163-4fea9bad48ff",
   "metadata": {},
   "outputs": [],
   "source": [
    "##Here I divided the Dataframe into two dataframes male and female\n",
    "female = char.loc[char['gender'] == 'f']\n",
    "male = char.loc[char['gender'] == 'm']\n",
    "\n",
    "##This creates a Dataframe that includes the ages of both males and females\n",
    "results = pd.DataFrame({'female': female['age'], 'male': male['age']})"
   ]
  },
  {
   "cell_type": "code",
   "execution_count": 110,
   "id": "1a5a3ad7-a375-41e7-b3a7-75ef39a2d498",
   "metadata": {},
   "outputs": [
    {
     "data": {
      "image/png": "[encoded data removed]",
      "text/plain": [
       "<Figure size 432x288 with 1 Axes>"
      ]
     },
     "metadata": {
      "needs_background": "light"
     },
     "output_type": "display_data"
    }
   ],
   "source": [
    "## The following command looks at the distribution of ages in both male and female characters\n",
    "## Important to note: I used 'showfliers = False' because it removes the extreme outliers\n",
    "## there were a few characters that had ages around 2000 which threw off the entire boxplot, so I decided to exclude them\n",
    "\n",
    "## Overall we can see that female characters are generally younger than male characters\n",
    "## even though both start at almost the same age in both boxplots, we can see that male characters have a higher max age\n",
    "## Moreover, the interquartile range (IQR) is from ages 26-43 in females\n",
    "## Whereas the IQR is from ages 33-52 in males\n",
    "\n",
    "sns.boxplot(data=results, showfliers = False);"
   ]
  },
  {
   "cell_type": "code",
   "execution_count": 111,
   "id": "63103e11-d9bf-4419-a0b5-c315cd073e74",
   "metadata": {},
   "outputs": [
    {
     "name": "stdout",
     "output_type": "stream",
     "text": [
      "         script_id         words          age\n",
      "count  6911.000000   6911.000000  5498.000000\n",
      "mean   4215.976125    850.478513    37.429611\n",
      "std    2407.064255   1207.280330    54.741686\n",
      "min     280.000000    101.000000     4.000000\n",
      "25%    2202.000000    194.000000    26.000000\n",
      "50%    3766.000000    409.000000    33.000000\n",
      "75%    6066.000000    967.000000    43.000000\n",
      "max    9254.000000  16164.000000  2009.000000\n",
      "          script_id         words           age\n",
      "count  16132.000000  16132.000000  12763.000000\n",
      "mean    4185.698054    932.652988     44.510225\n",
      "std     2500.847745   1473.837449     61.621353\n",
      "min      280.000000    101.000000      3.000000\n",
      "25%     2046.000000    192.000000     33.000000\n",
      "50%     3667.000000    391.000000     42.000000\n",
      "75%     6315.000000    984.000000     52.000000\n",
      "max     9254.000000  28102.000000   2013.000000\n"
     ]
    }
   ],
   "source": [
    "## Looking at 'max' below we can see the extreme outliers in terms of age\n",
    "\n",
    "print(female.describe())\n",
    "print(male.describe())"
   ]
  },
  {
   "cell_type": "markdown",
   "id": "8d4e5c14-575e-4e55-be1e-6731f59bfc8d",
   "metadata": {},
   "source": [
    "# Second Visualization"
   ]
  },
  {
   "cell_type": "markdown",
   "id": "07040726-42c8-474d-a979-e8535be113f4",
   "metadata": {},
   "source": [
    "I want to find out if there is a correlation between the year in which a movie was brought out and the amount it grosses"
   ]
  },
  {
   "cell_type": "code",
   "execution_count": 121,
   "id": "c58ba27d-a2bc-48a8-8030-bce28708c72f",
   "metadata": {},
   "outputs": [],
   "source": [
    "corr = meta['gross'].corr(meta['year'])"
   ]
  },
  {
   "cell_type": "code",
   "execution_count": 122,
   "id": "f9a2286b-d74e-4f23-9db7-858b9ad70c03",
   "metadata": {},
   "outputs": [
    {
     "data": {
      "text/plain": [
       "-0.2683465910462182"
      ]
     },
     "execution_count": 122,
     "metadata": {},
     "output_type": "execute_result"
    }
   ],
   "source": [
    "corr"
   ]
  },
  {
   "cell_type": "code",
   "execution_count": 128,
   "id": "5b79d2c4-04c0-4f76-b471-40d7aef99341",
   "metadata": {},
   "outputs": [
    {
     "data": {
      "image/png": "[encoded data removed]",
      "text/plain": [
       "<Figure size 360x360 with 1 Axes>"
      ]
     },
     "metadata": {
      "needs_background": "light"
     },
     "output_type": "display_data"
    }
   ],
   "source": [
    "sns.lmplot(x='year', y='gross', data=meta);"
   ]
  },
  {
   "cell_type": "markdown",
   "id": "15a23be3-a109-4fa6-8e8f-6c1ac9d41fb3",
   "metadata": {},
   "source": [
    "There seems to be a negative correlation. Perhaps this can be explained by the influx of movies, but also because older movies had a longer time to gain revenue. \n",
    "Additionally, the dataset might not include high-grossing movies that have just been published because of copyright issues, or because the screenplay was not available.\n",
    "All in all, this can be influenced by many factors, both in the real world as well as some inherent flaws in the dataset."
   ]
  },
  {
   "cell_type": "code",
   "execution_count": null,
   "id": "d35dd4ca-30df-49e0-b7f7-82180c285b51",
   "metadata": {},
   "outputs": [],
   "source": []
  }
 ],
 "metadata": {
  "kernelspec": {
   "display_name": "Python 3",
   "language": "python",
   "name": "python3"
  },
  "language_info": {
   "codemirror_mode": {
    "name": "ipython",
    "version": 3
   },
   "file_extension": ".py",
   "mimetype": "text/x-python",
   "name": "python",
   "nbconvert_exporter": "python",
   "pygments_lexer": "ipython3",
   "version": "3.8.8"
  }
 },
 "nbformat": 4,
 "nbformat_minor": 5
}
